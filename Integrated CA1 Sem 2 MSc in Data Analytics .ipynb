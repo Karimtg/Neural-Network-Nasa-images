{
 "cells": [
  {
   "cell_type": "code",
   "execution_count": 1,
   "id": "7908d0cc",
   "metadata": {},
   "outputs": [],
   "source": [
    "import os\n",
    "import rasterio\n",
    "import zipfile\n",
    "\n",
    "zip_file_path = r'C:\\Users\\karim\\OneDrive\\Escritorio\\CA1 integrated\\halfdegree-net-migration-1980-1990-geotiff.zip'\n",
    "output_folder = r'C:\\Users\\karim\\OneDrive\\Escritorio\\CA1 integrated'"
   ]
  },
  {
   "cell_type": "code",
   "execution_count": 2,
   "id": "6ff0b8f8",
   "metadata": {},
   "outputs": [
    {
     "name": "stdout",
     "output_type": "stream",
     "text": [
      "Dataset Name: halfdegree-net-migration-1980-1990.tif\n",
      "Number of Bands: 1\n",
      "Image Size: 720 x 360\n",
      "Coordinate Reference System (CRS): EPSG:4326\n",
      "Geotransform: | 0.50, 0.00,-180.00|\n",
      "| 0.00,-0.50, 90.00|\n",
      "| 0.00, 0.00, 1.00|\n",
      "Metadata: {'driver': 'GTiff', 'dtype': 'float32', 'nodata': -3.4028234663852886e+38, 'width': 720, 'height': 360, 'count': 1, 'crs': CRS.from_epsg(4326), 'transform': Affine(0.5000000000000001, 0.0, -180.00000000000003,\n",
      "       0.0, -0.5000000000000001, 90.00000000000001)}\n"
     ]
    }
   ],
   "source": [
    "with zipfile.ZipFile(zip_file_path, 'r') as zip_ref:\n",
    "    zip_ref.extractall(output_folder)\n",
    "\n",
    "tiff_files = [f for f in os.listdir(output_folder) if f.endswith('.tif')]\n",
    "\n",
    "for tiff_file in tiff_files:\n",
    "    tiff_path = os.path.join(output_folder, tiff_file)\n",
    "    with rasterio.open(tiff_path) as dataset:\n",
    "        \n",
    "        print(f\"Dataset Name: {tiff_file}\")\n",
    "        print(f\"Number of Bands: {dataset.count}\")\n",
    "        print(f\"Image Size: {dataset.width} x {dataset.height}\")\n",
    "        print(f\"Coordinate Reference System (CRS): {dataset.crs}\")\n",
    "        print(f\"Geotransform: {dataset.transform}\")\n",
    "        print(f\"Metadata: {dataset.meta}\")\n",
    "       \n",
    "        data = dataset.read(1)  "
   ]
  },
  {
   "cell_type": "code",
   "execution_count": 3,
   "id": "6f375335",
   "metadata": {},
   "outputs": [],
   "source": [
    "from rasterio.crs import CRS\n",
    "from affine import Affine\n",
    "\n",
    "metadata = {\n",
    "    'driver': 'GTiff',\n",
    "    'dtype': 'float32',\n",
    "    'nodata': -3.4028230607370965e+38,\n",
    "    'width': 43200,\n",
    "    'height': 16728,\n",
    "    'count': 1,\n",
    "    'crs': CRS.from_epsg(4326),\n",
    "    'transform': Affine(0.0083333333333, 0.0, -179.9999999999999,\n",
    "                        0.0, -0.0083333333333, 83.63333333244248)\n",
    "}\n"
   ]
  },
  {
   "cell_type": "code",
   "execution_count": null,
   "id": "a7607210",
   "metadata": {},
   "outputs": [],
   "source": []
  }
 ],
 "metadata": {
  "kernelspec": {
   "display_name": "Python 3 (ipykernel)",
   "language": "python",
   "name": "python3"
  },
  "language_info": {
   "codemirror_mode": {
    "name": "ipython",
    "version": 3
   },
   "file_extension": ".py",
   "mimetype": "text/x-python",
   "name": "python",
   "nbconvert_exporter": "python",
   "pygments_lexer": "ipython3",
   "version": "3.9.12"
  }
 },
 "nbformat": 4,
 "nbformat_minor": 5
}
